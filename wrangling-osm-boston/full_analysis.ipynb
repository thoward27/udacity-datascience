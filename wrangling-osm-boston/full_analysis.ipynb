{
 "cells": [
  {
   "cell_type": "markdown",
   "metadata": {},
   "source": [
    "# Wrangling Boston: A Case Study with OpenStreetMaps\n",
    "\n",
    "Within this document I will endeavour to extract, clean, and discuss the various aspects of the Boston, MA - OpenStreetMaps data. This file, uncompressed, is approximately *500 MB*. Due to it's **massive** size, I've had to deal with many new issues, issues such as running out of memory, issues that I had previously avoided completely. To work through the task I ended up digging into many docs, and came out a better coder as a result. \n",
    "\n",
    "Thank you, for posing this challenge, and thank you for judging my performance. \n",
    "\n",
    "Please respond with any questions you may have."
   ]
  },
  {
   "cell_type": "markdown",
   "metadata": {},
   "source": [
    "## Introduction\n",
    "As a \"New Englander\" I've always held [Boston](https://en.wikipedia.org/wiki/Boston) fondly in my mind. Personally, the city has always struck me as warm, with it's winding and inefficient city-planning. The natural counter to New York (a city of gridlines and efficiency), Boston is the ideal place to work on StreetMapData, as visitors need all the help they can get navigating the web of streets. "
   ]
  },
  {
   "cell_type": "markdown",
   "metadata": {},
   "source": [
    "## Imports\n",
    "For this project I'll be using a few standard libraries, the task will be completed mainly with Pandas, Numpy, and SQLite3. \n",
    "\n",
    "I've also imported matplotlib to plot any interesting findings, as well as bz2 to handle the format provided by [MapZen](https://mapzen.com/data/metro-extracts/metro/boston_massachusetts/). "
   ]
  },
  {
   "cell_type": "code",
   "execution_count": 1,
   "metadata": {
    "collapsed": true
   },
   "outputs": [],
   "source": [
    "import sqlite3 as sql\n",
    "import os\n",
    "import xml.etree.cElementTree as ET\n",
    "import time\n",
    "import pandas as pd\n",
    "import numpy as np\n",
    "import seaborn as sns\n",
    "import matplotlib.pyplot as plt\n",
    "%matplotlib inline"
   ]
  },
  {
   "cell_type": "markdown",
   "metadata": {},
   "source": [
    "Also going to left-align tables, as I feel it reads much nicer; thank you to [Stack Overflow](http://stackoverflow.com/questions/21892570/ipython-notebook-align-table-to-the-left-of-cell) for this one."
   ]
  },
  {
   "cell_type": "code",
   "execution_count": 2,
   "metadata": {},
   "outputs": [
    {
     "data": {
      "text/html": [
       "<style>\n",
       "table {float:left}\n",
       "</style>"
      ],
      "text/plain": [
       "<IPython.core.display.HTML object>"
      ]
     },
     "metadata": {},
     "output_type": "display_data"
    }
   ],
   "source": [
    "%%html\n",
    "<style>\n",
    "table {float:left}\n",
    "</style>"
   ]
  },
  {
   "cell_type": "markdown",
   "metadata": {},
   "source": [
    "## Setup\n",
    "\n",
    "This is where I inteded to begin exploring data, and met my first file-size-based issue. \n",
    "\n",
    "Unfortunately, I'm on a 32-bit system; and because of my work - I need to stay in 32-bit land. This means that my memory is severely restricted, and as a result I was forced to find a method for parsing the file, building the database, and managing my memory. \n",
    "\n",
    "First, to look at my schema:"
   ]
  },
  {
   "cell_type": "markdown",
   "metadata": {
    "collapsed": true
   },
   "source": [
    "```python\n",
    "# This is my schema, and controlled the layout of the database.\n",
    "users = (\n",
    "    \"CREATE TABLE IF NOT EXISTS users (\"\n",
    "    \"u_id integer PRIMARY KEY,\"\n",
    "    \"u_name text NOT NULL\"\n",
    "    \");\"\n",
    ")\n",
    "nodes = (\n",
    "    \"CREATE TABLE IF NOT EXISTS nodes (\"\n",
    "    \"n_id integer PRIMARY KEY,\"\n",
    "    \"u_id integer NOT NULL,\"\n",
    "    \"lat text NOT NULL,\"\n",
    "    \"lon text NOT NULL,\"\n",
    "    \"FOREIGN KEY (u_id) REFERENCES users (u_id) ON DELETE CASCADE ON UPDATE NO ACTION\"\n",
    "    \");\"\n",
    ")\n",
    "node_tags = (\n",
    "    \"CREATE TABLE IF NOT EXISTS node_tags (\"\n",
    "    \"n_id integer NOT NULL,\"\n",
    "    \"k text NOT NULL,\"\n",
    "    \"v text NOT NULL,\"\n",
    "    \"PRIMARY KEY (n_id, k)\"\n",
    "    \"FOREIGN KEY (n_id) REFERENCES nodes (n_id) ON DELETE CASCADE ON UPDATE NO ACTION\"\n",
    "    \");\"\n",
    ")\n",
    "ways = (\n",
    "    \"CREATE TABLE IF NOT EXISTS ways (\"\n",
    "    \"w_id integer PRIMARY KEY,\"\n",
    "    \"u_id integer NOT NULL,\"\n",
    "    \"FOREIGN KEY (u_id) REFERENCES users (u_id) ON DELETE CASCADE ON UPDATE NO ACTION\"\n",
    "    \");\"\n",
    ")\n",
    "way_tags = (\n",
    "    \"CREATE TABLE IF NOT EXISTS way_tags (\"\n",
    "    \"w_id integer NOT NULL,\"\n",
    "    \"k text NOT NULL,\"\n",
    "    \"v text NOT NULL,\"\n",
    "    \"PRIMARY KEY (w_id, k),\"\n",
    "    \"FOREIGN KEY (w_id) REFERENCES ways (w_id) ON DELETE CASCADE ON UPDATE NO ACTION\"\n",
    "    \");\"\n",
    ")\n",
    "way_refs = (\n",
    "    \"CREATE TABLE IF NOT EXISTS way_refs (\"\n",
    "    \"w_id NOT NULL,\"\n",
    "    \"n_id NOT NULL,\"\n",
    "    \"PRIMARY KEY (w_id, n_id),\"\n",
    "    \"FOREIGN KEY (n_id) REFERENCES nodes (n_id) ON DELETE CASCADE ON UPDATE NO ACTION\"\n",
    "    \");\"\n",
    ")\n",
    "relations = (\n",
    "    \"CREATE TABLE IF NOT EXISTS relations (\"\n",
    "    \"r_id integer PRIMARY KEY,\"\n",
    "    \"k text NOT NULL,\"\n",
    "    \"v text NOT NULL\"\n",
    "    \");\"\n",
    ")\n",
    "relation_members = (\n",
    "    \"CREATE TABLE IF NOT EXISTS relation_members (\"\n",
    "    \"r_id NOT NULL,\"\n",
    "    \"m_id NOT NULL,\"\n",
    "    \"m_type NOT NULL,\"\n",
    "    \"PRIMARY KEY (r_id, m_id, m_type),\"\n",
    "    \"FOREIGN KEY (r_id) REFERENCES relations (r_id) ON DELETE CASCADE ON UPDATE NO ACTION\"\n",
    "    \");\"\n",
    ")\n",
    "```"
   ]
  },
  {
   "cell_type": "markdown",
   "metadata": {},
   "source": [
    "Memory management proved to be quite difficult, and the following code needed over **3 days** to run on my machine! \n",
    "\n",
    "Below, in order, is a reset_db function (which I used while building my parse function to reset between parses as I cleaned up unexpected errors), then a fill_tables function, which actually parses the tables out. "
   ]
  },
  {
   "cell_type": "markdown",
   "metadata": {},
   "source": [
    "```python\n",
    "# this code resets the database, and was used when my \"fill_tables\" code broke midstream.\n",
    "def reset_db(db_name):\n",
    "    \"\"\"Completely resets the database. Caution as this deletes the file, and recreates all tables.\"\"\"\n",
    "    if os.path.isfile(db_name): os.remove(db_name)\n",
    "    conn = sql.connect(db_name)\n",
    "    c = conn.cursor()\n",
    "    try:\n",
    "        c.execute(users)\n",
    "        c.execute(nodes)\n",
    "        c.execute(node_tags)\n",
    "        c.execute(ways)\n",
    "        c.execute(way_tags)\n",
    "        c.execute(way_refs)\n",
    "        c.execute(relations)\n",
    "        c.execute(relation_members)\n",
    "    except Exception as err:\n",
    "        print(\"err\")\n",
    "        conn.rollback()\n",
    "    conn.commit()\n",
    "    conn.close()\n",
    "    return\n",
    "```"
   ]
  },
  {
   "cell_type": "markdown",
   "metadata": {},
   "source": [
    "```python\n",
    "# this code parses the file, iterating over each element, and injects it into the database\n",
    "def fill_tables(file, db_name):\n",
    "    \"\"\"Fill the database from file\n",
    "    \n",
    "    This function parses the provided file, while keeping the root element clear it iterates through and parses elements\n",
    "    It then takes these elements and injects them into the DB using sqlite's \"INSERT OR IGNORE\"\n",
    "    \"\"\"\n",
    "    # connect to the sql server and generate a cursor object\n",
    "    conn = sql.connect(db_name)\n",
    "    c = conn.cursor()\n",
    "    # parent attributes, which are set each time a parent element is found\n",
    "    parent = False\n",
    "    p_type = ''\n",
    "    context = ET.iterparse(file, events=(\"start\", \"end\"))\n",
    "    # turn the iterparse into an iterator\n",
    "    context = iter(context)\n",
    "    # get the root element using next on the iterator object, which gets the first element in the file\n",
    "    event, root = next(context)\n",
    "    for event, e in context:\n",
    "        try:\n",
    "            # handle tags and nds, commiting on success\n",
    "            try:\n",
    "                if e.tag == 'tag' and parent:\n",
    "                    tag_attribs = (parent, e.attrib['k'], e.attrib['v'])\n",
    "                    if p_type == 'node': \n",
    "                        c.execute(\n",
    "                            \"INSERT OR IGNORE INTO node_tags(n_id, k, v) VALUES(?, ?, ?)\", \n",
    "                            (tag_attribs)\n",
    "                        )\n",
    "                    if p_type == 'way': \n",
    "                        c.execute(\n",
    "                            \"INSERT OR IGNORE INTO way_tags(w_id, k, v) VALUES(?, ?, ?)\", \n",
    "                            (tag_attribs)\n",
    "                        )\n",
    "                elif e.tag == 'nd' and p_type == 'way':\n",
    "                    way_ref_attribs = (parent, e.attrib['ref'])\n",
    "                    c.execute(\n",
    "                        \"INSERT OR IGNORE INTO way_refs(w_id, n_id) VALUES(?, ?)\", \n",
    "                        (way_ref_attribs)\n",
    "                    )\n",
    "                elif e.tag == 'nd' and p_type == 'relation':\n",
    "                    print(e.tag, e.attrib, p_type)\n",
    "                elif e.tag == 'nd' and p_type == 'node':\n",
    "                    print(e.tag, e.attrib, p_type)\n",
    "            except KeyError:\n",
    "                print(\"bad tag: {}\".format(e.attrib))\n",
    "                pass\n",
    "            else:\n",
    "                conn.commit()\n",
    "            \n",
    "            # handle users\n",
    "            try:\n",
    "                u_id = e.attrib['uid']\n",
    "                u_name = e.attrib['user']\n",
    "                c.execute(\"INSERT OR IGNORE INTO users(u_id, u_name) VALUES(?, ?)\", (u_id, u_name))\n",
    "            except KeyError:\n",
    "                pass\n",
    "            else:\n",
    "                conn.commit()\n",
    "            \n",
    "            # check for id, if there's no ID it's an invalid parent object, we can skip that\n",
    "            try:\n",
    "                e_id = e.attrib['id']\n",
    "            except KeyError:\n",
    "                conn.commit()\n",
    "                root.clear()\n",
    "                continue            \n",
    "            # node / way / relation checks\n",
    "            try:\n",
    "                if e.tag == 'node': \n",
    "                    node_attribs = (e_id, u_id, e.attrib['lat'], e.attrib['lon'])\n",
    "                    c.execute(\n",
    "                        \"INSERT OR IGNORE INTO nodes(n_id, u_id, lat, lon) VALUES(?, ?, ?, ?)\", \n",
    "                        (node_attribs)\n",
    "                    )\n",
    "                    parent, p_type = e_id, 'node'\n",
    "                elif e.tag == 'way':\n",
    "                    way_attribs = (e_id, u_id)\n",
    "                    c.execute(\n",
    "                        \"INSERT OR IGNORE INTO ways(w_id, u_id) VALUES(?, ?)\", \n",
    "                        (way_attribs)\n",
    "                    )\n",
    "                    parent, p_type = e_id, 'way'\n",
    "                elif e.tag == 'relation':\n",
    "                    relation_attribs = (e_id, e.attrib['k'], e,attrib['v'])\n",
    "                    c.execute(\n",
    "                        \"INSERT OR IGNORE INTO relations(r_id, k, v) VALUES(?, ?, ?)\", \n",
    "                        (relation_attribs)\n",
    "                    )\n",
    "                    parent, p_type = e_id, 'relation'\n",
    "            except KeyError:\n",
    "                print(\"bad parent\")\n",
    "                pass\n",
    "            else: \n",
    "                conn.commit()\n",
    "            \n",
    "            #catch and commit any other changes(this clears the journal which saves mem)\n",
    "            conn.commit()\n",
    "            # clear the root element, which saves a ton of mem\n",
    "            root.clear()\n",
    "        except KeyboardInterrupt:\n",
    "            conn.commit()\n",
    "            root.clear()\n",
    "            input(\"paused\")\n",
    "            continue\n",
    "        except Exception as err:\n",
    "            conn.commit()\n",
    "            input(\"unhandled err: {} Tag: {}={} parent: {}\".format(err, e.tag, e.attrib, p_type))\n",
    "            continue\n",
    "    print(\"exiting loop\")\n",
    "    conn.commit()\n",
    "    conn.close()\n",
    "    input()\n",
    "    return\n",
    "```"
   ]
  },
  {
   "cell_type": "markdown",
   "metadata": {
    "collapsed": true
   },
   "source": [
    "All of these functions were *not* run in Jupyter, as it seemed to be slightly more error prone (and a bit slower?). Instead, I elected to run the code from terminal, and bring the code back into here to explain. "
   ]
  },
  {
   "cell_type": "markdown",
   "metadata": {},
   "source": [
    "## Exploration of Data\n",
    "\n",
    "So at this point, we have all of the valid elements and their children stored in a database.\n",
    "\n",
    "The original file was over 500 MB in size; the database came in at 250 MB. Nearly halving the data through some dedicated normalization! Woohoo! (The database is currently in 3rd normal form for those who are curious)\n",
    "\n",
    "It's at this point that I truly began to explore the SQLite DB File with a few SQL Queries. \n",
    "\n",
    "I performed many of these queries initially through [DB Browser for SQLite's](http://sqlitebrowser.org) Execute SQL Panel. I really enjoyed using the interface provided by the program, especially autocompletion for tables, and fields.\n",
    "\n",
    "Fairly shortly into the analysis I started pulling entire tables into [Pandas](http://pandas.pydata.org/pandas-docs/stable/index.html) and running queries off of these [Pandas DataFrames](http://pandas.pydata.org/pandas-docs/stable/generated/pandas.DataFrame.html)"
   ]
  },
  {
   "cell_type": "markdown",
   "metadata": {},
   "source": [
    "### Who's creating this data?\n",
    "\n",
    "The first question I'd like to look at is, who's creating this data? \n",
    "\n",
    "To find out, I looked at the top 500 users who were responsible for most of the nodes in the map. \n",
    "\n",
    "```sql\n",
    "SELECT users.u_name, count(*) as cnt\n",
    "FROM nodes, users, ways\n",
    "WHERE nodes.u_id = users.u_id\n",
    "GROUP BY users.u_id\n",
    "ORDER BY cnt desc\n",
    "LIMIT 500\n",
    "```\n",
    "\n",
    "The top 10 in table:\n",
    "\n",
    "| user | Count|\n",
    "|:------|:------|\n",
    "|crschmidt | 1201241 |\n",
    "|jremillard-massgis | 198117|\n",
    "|OceanVortex | 85290|\n",
    "|wambag | 73269|\n",
    "|morganwahl | 67532|\n",
    "|MassGIS Import | 56820|\n",
    "|ryebread | 52372|\n",
    "|ingalls_imports | 28241|\n",
    "|Ahlzen | 24944|\n",
    "|mapper999 | 12510|\n"
   ]
  },
  {
   "cell_type": "markdown",
   "metadata": {},
   "source": [
    "#### Breaking down the table\n",
    "Okay, that is a fairly large jump. \n",
    "\n",
    "For a bit of context, GIS is a typical abbreviation for a Geographic Information System. I've had the fortune to work with a few of these systems and they are loaded with data. We can see the \"jremillard-massgis\" user, and we can safely assume such a large volume was an import from one of the many GIS Systems. There is also the user called \"MassGIS Import\" I think it's also fair to say this was a GIS Import as well. What I cannot explain, is user \"crshmidt\", who mapped more than any user, and yet references no outside software. \n",
    "\n",
    "Immediately I wanted to see how realistic this *could* even be:"
   ]
  },
  {
   "cell_type": "code",
   "execution_count": 3,
   "metadata": {
    "scrolled": true
   },
   "outputs": [
    {
     "name": "stdout",
     "output_type": "stream",
     "text": [
      "crshmidt has posted: \n",
      "    260.12 nodes per day, \n",
      "     10.84 nodes per hour *assumes posting 24 hours per day, \n",
      "     18.58 nodes per hour *assumes normal waking hours, \n",
      "      0.31 nodes per waking minute\n"
     ]
    }
   ],
   "source": [
    "from datetime import date\n",
    "# when I imported the data\n",
    "d1 = date(2017, 4, 1)\n",
    "# when OSM was founded\n",
    "d0 = date(2004, 8, 9)\n",
    "delta = d1 - d0\n",
    "nodes = 1201241\n",
    "nodes_per_day = nodes / delta.days\n",
    "nodes_per_hour = nodes_per_day / 24\n",
    "nodes_per_waking_hour = nodes_per_day / (24-10)\n",
    "nodes_per_minute = nodes_per_waking_hour / 60\n",
    "\n",
    "line = (\n",
    "    f\"crshmidt has posted: \"\n",
    "    f\"\\n{nodes_per_day:>10.2f} nodes per day, \"\n",
    "    f\"\\n{nodes_per_hour:>10.2f} nodes per hour *assumes posting 24 hours per day, \"\n",
    "    f\"\\n{nodes_per_waking_hour:>10.2f} nodes per hour *assumes normal waking hours, \"\n",
    "    f\"\\n{nodes_per_minute:>10.2f} nodes per waking minute\"\n",
    ")\n",
    "print(line)"
   ]
  },
  {
   "cell_type": "markdown",
   "metadata": {},
   "source": [
    "#### Understanding our top user\n",
    "I simply can't understand how one user can output so much data over 12 years consistently. Remember the numbers above don't account for family time, weekends off, or anything really - except posting to OSM. My suspicion is that this account is shared by a large group of people.\n",
    "\n",
    "Before chasing down this specific user too much further, I'd like to take a moment to create a collection of histograms mapping posting frequency across different segments of our top 500. Essentially I'm looking to see what most user habits look like."
   ]
  },
  {
   "cell_type": "code",
   "execution_count": 4,
   "metadata": {},
   "outputs": [
    {
     "data": {
      "image/png": "[encoded data removed]",
      "text/plain": [
       "<matplotlib.figure.Figure at 0xa67b940>"
      ]
     },
     "metadata": {},
     "output_type": "display_data"
    }
   ],
   "source": [
    "# to graph user contribution:\n",
    "node_users = pd.read_csv(\"./wrangle_openstreetmaps_boston_results/nodes_users_top50.csv\")\n",
    "fig, axes = plt.subplots(2, 2, figsize=(18, 13))\n",
    "\n",
    "# plot 1\n",
    "ax1 = plt.subplot2grid((2, 3), (0,0))\n",
    "n, bins, rectangles = plt.hist(node_users['cnt'])\n",
    "plt.title(\"Top 500 Users Posting Frequency\")\n",
    "plt.xlabel(\"Number of Nodes\")\n",
    "plt.ylabel(\"Frequency\")\n",
    "\n",
    "# plot 2\n",
    "ax2 = plt.subplot2grid((2, 3), (0, 1))\n",
    "n, bins, rectangles = plt.hist(node_users['cnt'][0:100])\n",
    "plt.title(\"Top 100 Users Posting Frequency\")\n",
    "plt.xlabel(\"Number of Nodes\")\n",
    "plt.ylabel(\"Frequency\")\n",
    "\n",
    "# plot 3\n",
    "ax3 = plt.subplot2grid((2, 3), (1,0))\n",
    "n, bins, rectangles = plt.hist(node_users['cnt'][100:500])\n",
    "plt.title(\"Bottom 400 From Top 500 Users Posting Frequency\")\n",
    "plt.xlabel(\"Number of Nodes\")\n",
    "plt.ylabel(\"Frequency\")\n",
    "\n",
    "# plot 4\n",
    "ax3 = plt.subplot2grid((2, 3), (1, 1))\n",
    "n, bins, rectangles = plt.hist(node_users['cnt'][400:500])\n",
    "plt.title(\"Bottom 100 From Top 500 Users Posting Frequency\")\n",
    "plt.xlabel(\"Number of Nodes\")\n",
    "plt.ylabel(\"Frequency\")\n",
    "\n",
    "# show, but with \";\" because for some reason that stops the text from showing?\n",
    "plt.show();"
   ]
  },
  {
   "cell_type": "markdown",
   "metadata": {},
   "source": [
    "#### Users Histogram Explanation \n",
    "We have a very skewed, yet very expected, distribution for user input. Most userts contribute relavtively few nodes, whereas we can also see a few key users who contribute a very large number of nodes. \n",
    "\n",
    "Thanks to [Stack Overflow](http://stackoverflow.com/questions/25790062/how-to-hide-matplotlib-lines-line2d-in-ipython-notebook) for a method to block text from iPython notebooks. "
   ]
  },
  {
   "cell_type": "markdown",
   "metadata": {},
   "source": [
    "#### Gathering all of the users\n",
    "To really get a better understanding of the user habits regarding both nodes and ways, I'm going to load the entire user table up into a Pandas DataFrame. From there I'll perform a bit more in-depth statistical analysis. Which will hopefully illuminate the true nature of the Boston OSM users across both nodes and ways."
   ]
  },
  {
   "cell_type": "markdown",
   "metadata": {},
   "source": [
    ">#### Caution, error ahead. \n",
    "So, during my analysis I committed a pretty bad error. I intended to load the entire user table, and accidently left a limit statement in. In my haste I completely forgot to change it as I progressed through my analysis. I then noticed I had nodes without corresponding u_names, (as in, they had their u_id, but no corresponding u_name), resulting from my limiting of the user table import.\n",
    "I've cut that entire section out and put in below in a section marked **Aside: Missing Users** as an example of how I would correct this problem if it did, in fact, exist."
   ]
  },
  {
   "cell_type": "code",
   "execution_count": 5,
   "metadata": {},
   "outputs": [
    {
     "data": {
      "text/html": [
       "<div>\n",
       "<table border=\"1\" class=\"dataframe\">\n",
       "  <thead>\n",
       "    <tr style=\"text-align: right;\">\n",
       "      <th></th>\n",
       "      <th>cnt_nodes</th>\n",
       "      <th>cnt_ways</th>\n",
       "      <th>cnt_total</th>\n",
       "      <th>u_name</th>\n",
       "    </tr>\n",
       "    <tr>\n",
       "      <th>u_id</th>\n",
       "      <th></th>\n",
       "      <th></th>\n",
       "      <th></th>\n",
       "      <th></th>\n",
       "    </tr>\n",
       "  </thead>\n",
       "  <tbody>\n",
       "    <tr>\n",
       "      <th>1034</th>\n",
       "      <td>1201241</td>\n",
       "      <td>1280</td>\n",
       "      <td>1202521.0</td>\n",
       "      <td>crschmidt</td>\n",
       "    </tr>\n",
       "    <tr>\n",
       "      <th>1137433</th>\n",
       "      <td>198117</td>\n",
       "      <td>231748</td>\n",
       "      <td>429865.0</td>\n",
       "      <td>jremillard-massgis</td>\n",
       "    </tr>\n",
       "    <tr>\n",
       "      <th>354704</th>\n",
       "      <td>85290</td>\n",
       "      <td>6749</td>\n",
       "      <td>92039.0</td>\n",
       "      <td>OceanVortex</td>\n",
       "    </tr>\n",
       "    <tr>\n",
       "      <th>326503</th>\n",
       "      <td>73269</td>\n",
       "      <td>6827</td>\n",
       "      <td>80096.0</td>\n",
       "      <td>wambag</td>\n",
       "    </tr>\n",
       "    <tr>\n",
       "      <th>221294</th>\n",
       "      <td>67532</td>\n",
       "      <td>1886</td>\n",
       "      <td>69418.0</td>\n",
       "      <td>morganwahl</td>\n",
       "    </tr>\n",
       "  </tbody>\n",
       "</table>\n",
       "</div>"
      ],
      "text/plain": [
       "         cnt_nodes  cnt_ways  cnt_total              u_name\n",
       "u_id                                                       \n",
       "1034       1201241      1280  1202521.0           crschmidt\n",
       "1137433     198117    231748   429865.0  jremillard-massgis\n",
       "354704       85290      6749    92039.0         OceanVortex\n",
       "326503       73269      6827    80096.0              wambag\n",
       "221294       67532      1886    69418.0          morganwahl"
      ]
     },
     "execution_count": 5,
     "metadata": {},
     "output_type": "execute_result"
    }
   ],
   "source": [
    "# connect to our db:\n",
    "conn = sql.connect('bostonV2_python.db')\n",
    "sql_select = (\n",
    "    \"SELECT users.u_name as u_name_{0}, users.u_id, count(*) as cnt_{0} \"\n",
    "    \"FROM {0}, users \"\n",
    "    \"WHERE users.u_id = {0}.u_id \"\n",
    "    \"GROUP BY users.u_id \"\n",
    "    \"ORDER BY cnt_{0} desc \"\n",
    ")\n",
    "# get our users and a count of their contributions to the nodes and ways\n",
    "users = pd.concat(\n",
    "    objs = [\n",
    "        pd.read_sql(sql_select.format(\"nodes\"), con=conn, index_col=\"u_id\"), \n",
    "        pd.read_sql(sql_select.format(\"ways\"), con=conn, index_col=\"u_id\")\n",
    "    ],\n",
    "    axis=1,\n",
    "    join='outer',\n",
    ")\n",
    "# add a grand total\n",
    "users['cnt_total'] = users['cnt_nodes'] + users['cnt_ways']\n",
    "# sort the df by total, nodes, then ways desc so we can see our top users\n",
    "users.sort_values(\n",
    "    by=['cnt_total', 'cnt_nodes','cnt_ways'],\n",
    "    ascending=False, \n",
    "    inplace=True\n",
    ")\n",
    "# fill NaNs with 0\n",
    "users.fillna(0, axis=1, inplace=True)\n",
    "# cast as uint32, which takes slightly less memory than float64 (which is default)\n",
    "users = users.astype(dtype={'cnt_nodes':np.uint32, 'cnt_ways': np.uint32})\n",
    "users['u_name'] = users['u_name_ways']\n",
    "users.drop(['u_name_ways', 'u_name_nodes'], inplace=True, axis=1)\n",
    "# print the head to make sure we're on the right track\n",
    "users.head()"
   ]
  },
  {
   "cell_type": "code",
   "execution_count": 6,
   "metadata": {
    "collapsed": true
   },
   "outputs": [],
   "source": [
    "# build the table out:\n",
    "num_nodes = sum(users['cnt_nodes'])\n",
    "num_ways = sum(users['cnt_ways'])\n",
    "num_total = num_nodes + num_ways\n",
    "num_users = len(users['u_name'])\n",
    "users['per_nodes'] = users['cnt_nodes'] / num_nodes\n",
    "users['per_ways'] = users['cnt_ways'] / num_ways\n",
    "users['per_total'] = users['cnt_total'] / num_total"
   ]
  },
  {
   "cell_type": "code",
   "execution_count": 7,
   "metadata": {},
   "outputs": [
    {
     "name": "stdout",
     "output_type": "stream",
     "text": [
      "There are 1345 users mapping in Boston.\n",
      "They've mapped a total of 2243380 objects, of which 309396 are ways, and 1933984 are nodes.\n"
     ]
    },
    {
     "data": {
      "text/html": [
       "<div>\n",
       "<table border=\"1\" class=\"dataframe\">\n",
       "  <thead>\n",
       "    <tr style=\"text-align: right;\">\n",
       "      <th></th>\n",
       "      <th>cnt_nodes</th>\n",
       "      <th>cnt_ways</th>\n",
       "      <th>cnt_total</th>\n",
       "      <th>u_name</th>\n",
       "      <th>per_nodes</th>\n",
       "      <th>per_ways</th>\n",
       "      <th>per_total</th>\n",
       "    </tr>\n",
       "    <tr>\n",
       "      <th>u_id</th>\n",
       "      <th></th>\n",
       "      <th></th>\n",
       "      <th></th>\n",
       "      <th></th>\n",
       "      <th></th>\n",
       "      <th></th>\n",
       "      <th></th>\n",
       "    </tr>\n",
       "  </thead>\n",
       "  <tbody>\n",
       "    <tr>\n",
       "      <th>1034</th>\n",
       "      <td>1201241</td>\n",
       "      <td>1280</td>\n",
       "      <td>1202521.0</td>\n",
       "      <td>crschmidt</td>\n",
       "      <td>0.621123</td>\n",
       "      <td>0.004137</td>\n",
       "      <td>0.536031</td>\n",
       "    </tr>\n",
       "    <tr>\n",
       "      <th>1137433</th>\n",
       "      <td>198117</td>\n",
       "      <td>231748</td>\n",
       "      <td>429865.0</td>\n",
       "      <td>jremillard-massgis</td>\n",
       "      <td>0.102440</td>\n",
       "      <td>0.749034</td>\n",
       "      <td>0.191615</td>\n",
       "    </tr>\n",
       "    <tr>\n",
       "      <th>354704</th>\n",
       "      <td>85290</td>\n",
       "      <td>6749</td>\n",
       "      <td>92039.0</td>\n",
       "      <td>OceanVortex</td>\n",
       "      <td>0.044101</td>\n",
       "      <td>0.021813</td>\n",
       "      <td>0.041027</td>\n",
       "    </tr>\n",
       "    <tr>\n",
       "      <th>326503</th>\n",
       "      <td>73269</td>\n",
       "      <td>6827</td>\n",
       "      <td>80096.0</td>\n",
       "      <td>wambag</td>\n",
       "      <td>0.037885</td>\n",
       "      <td>0.022066</td>\n",
       "      <td>0.035703</td>\n",
       "    </tr>\n",
       "    <tr>\n",
       "      <th>221294</th>\n",
       "      <td>67532</td>\n",
       "      <td>1886</td>\n",
       "      <td>69418.0</td>\n",
       "      <td>morganwahl</td>\n",
       "      <td>0.034919</td>\n",
       "      <td>0.006096</td>\n",
       "      <td>0.030943</td>\n",
       "    </tr>\n",
       "  </tbody>\n",
       "</table>\n",
       "</div>"
      ],
      "text/plain": [
       "         cnt_nodes  cnt_ways  cnt_total              u_name  per_nodes  \\\n",
       "u_id                                                                     \n",
       "1034       1201241      1280  1202521.0           crschmidt   0.621123   \n",
       "1137433     198117    231748   429865.0  jremillard-massgis   0.102440   \n",
       "354704       85290      6749    92039.0         OceanVortex   0.044101   \n",
       "326503       73269      6827    80096.0              wambag   0.037885   \n",
       "221294       67532      1886    69418.0          morganwahl   0.034919   \n",
       "\n",
       "         per_ways  per_total  \n",
       "u_id                          \n",
       "1034     0.004137   0.536031  \n",
       "1137433  0.749034   0.191615  \n",
       "354704   0.021813   0.041027  \n",
       "326503   0.022066   0.035703  \n",
       "221294   0.006096   0.030943  "
      ]
     },
     "execution_count": 7,
     "metadata": {},
     "output_type": "execute_result"
    }
   ],
   "source": [
    "print(f\"There are {num_users} users mapping in Boston.\")\n",
    "print(f\"They've mapped a total of {num_total} objects, of which {num_ways} are ways, and {num_nodes} are nodes.\")\n",
    "users.head()"
   ]
  },
  {
   "cell_type": "markdown",
   "metadata": {},
   "source": [
    "#### Pie Chart of User Input to All Objects\n",
    "Next I'd like to see OSMs users in a pie chart. For readability I'm only going to chart 90% of total elements. Relatively few users have created this content, as can be seen below "
   ]
  },
  {
   "cell_type": "code",
   "execution_count": 8,
   "metadata": {
    "collapsed": true
   },
   "outputs": [],
   "source": [
    "def piechart_users(num_contrib, df, sort_col='cnt_total'):\n",
    "    # sort by sort_col, then take num_contrib off the top\n",
    "    pie_data = df.sort_values(by=sort_col, ascending=False)\n",
    "    pie_data = pie_data.iloc[:num_contrib]\n",
    "    sum_pie_data = pie_data.sum(axis=0, numeric_only=True)\n",
    "    # generate 'other' index containing the rest of the elements from the unselected group\n",
    "    other = 1 - sum_pie_data\n",
    "    other[other < 0] = 0\n",
    "    other['cnt_nodes'] = num_nodes - sum_pie_data['cnt_nodes']\n",
    "    other['cnt_ways'] = num_ways - sum_pie_data['cnt_ways']\n",
    "    other['cnt_total'] = num_total - sum_pie_data['cnt_total']\n",
    "    other['u_name'] = \"other\"\n",
    "    pie_data.loc[-1] = other\n",
    "    # pie chart\n",
    "    labels = pie_data['u_name']\n",
    "    sizes = pie_data['cnt_total']\n",
    "\n",
    "    fig = plt.figure(figsize=[10, 10])\n",
    "    ax = fig.add_subplot(111)\n",
    "    ax.pie(sizes, labels=labels, autopct='%1.0f%%', labeldistance=1.05)\n",
    "    ax.set_title(f\"Top {num_contrib} OSM User Contributions to all Objects\")\n",
    "    plt.show();\n",
    "    print(\n",
    "        f\"Top {num_contrib} OSM Users account for: \"\n",
    "        f\"\\n{sum_pie_data['per_total']:>10.2%} of total ojects, \"\n",
    "        f\"\\n{sum_pie_data['per_nodes']:>10.2%} of total nodes, \"\n",
    "        f\"\\n{sum_pie_data['per_ways']:>10.2%} of total ways.\"\n",
    "    )\n",
    "    return pie_data, sum_pie_data"
   ]
  },
  {
   "cell_type": "code",
   "execution_count": 9,
   "metadata": {
    "scrolled": false
   },
   "outputs": [
    {
     "data": {
      "image/png": "[encoded data removed]",
      "text/plain": [
       "<matplotlib.figure.Figure at 0xabbfcc0>"
      ]
     },
     "metadata": {},
     "output_type": "display_data"
    },
    {
     "name": "stdout",
     "output_type": "stream",
     "text": [
      "Top 10 OSM Users account for: \n",
      "    92.66% of total ojects, \n",
      "    93.09% of total nodes, \n",
      "    89.98% of total ways.\n"
     ]
    },
    {
     "data": {
      "text/html": [
       "<div>\n",
       "<table border=\"1\" class=\"dataframe\">\n",
       "  <thead>\n",
       "    <tr style=\"text-align: right;\">\n",
       "      <th></th>\n",
       "      <th>cnt_nodes</th>\n",
       "      <th>cnt_ways</th>\n",
       "      <th>cnt_total</th>\n",
       "      <th>u_name</th>\n",
       "      <th>per_nodes</th>\n",
       "      <th>per_ways</th>\n",
       "      <th>per_total</th>\n",
       "    </tr>\n",
       "    <tr>\n",
       "      <th>u_id</th>\n",
       "      <th></th>\n",
       "      <th></th>\n",
       "      <th></th>\n",
       "      <th></th>\n",
       "      <th></th>\n",
       "      <th></th>\n",
       "      <th></th>\n",
       "    </tr>\n",
       "  </thead>\n",
       "  <tbody>\n",
       "    <tr>\n",
       "      <th>1034</th>\n",
       "      <td>1201241.0</td>\n",
       "      <td>1280.0</td>\n",
       "      <td>1202521.0</td>\n",
       "      <td>crschmidt</td>\n",
       "      <td>0.621123</td>\n",
       "      <td>0.004137</td>\n",
       "      <td>0.536031</td>\n",
       "    </tr>\n",
       "    <tr>\n",
       "      <th>1137433</th>\n",
       "      <td>198117.0</td>\n",
       "      <td>231748.0</td>\n",
       "      <td>429865.0</td>\n",
       "      <td>jremillard-massgis</td>\n",
       "      <td>0.102440</td>\n",
       "      <td>0.749034</td>\n",
       "      <td>0.191615</td>\n",
       "    </tr>\n",
       "    <tr>\n",
       "      <th>354704</th>\n",
       "      <td>85290.0</td>\n",
       "      <td>6749.0</td>\n",
       "      <td>92039.0</td>\n",
       "      <td>OceanVortex</td>\n",
       "      <td>0.044101</td>\n",
       "      <td>0.021813</td>\n",
       "      <td>0.041027</td>\n",
       "    </tr>\n",
       "    <tr>\n",
       "      <th>326503</th>\n",
       "      <td>73269.0</td>\n",
       "      <td>6827.0</td>\n",
       "      <td>80096.0</td>\n",
       "      <td>wambag</td>\n",
       "      <td>0.037885</td>\n",
       "      <td>0.022066</td>\n",
       "      <td>0.035703</td>\n",
       "    </tr>\n",
       "    <tr>\n",
       "      <th>221294</th>\n",
       "      <td>67532.0</td>\n",
       "      <td>1886.0</td>\n",
       "      <td>69418.0</td>\n",
       "      <td>morganwahl</td>\n",
       "      <td>0.034919</td>\n",
       "      <td>0.006096</td>\n",
       "      <td>0.030943</td>\n",
       "    </tr>\n",
       "    <tr>\n",
       "      <th>3216582</th>\n",
       "      <td>52372.0</td>\n",
       "      <td>14643.0</td>\n",
       "      <td>67015.0</td>\n",
       "      <td>ryebread</td>\n",
       "      <td>0.027080</td>\n",
       "      <td>0.047328</td>\n",
       "      <td>0.029872</td>\n",
       "    </tr>\n",
       "    <tr>\n",
       "      <th>15750</th>\n",
       "      <td>56820.0</td>\n",
       "      <td>6408.0</td>\n",
       "      <td>63228.0</td>\n",
       "      <td>MassGIS Import</td>\n",
       "      <td>0.029380</td>\n",
       "      <td>0.020711</td>\n",
       "      <td>0.028184</td>\n",
       "    </tr>\n",
       "    <tr>\n",
       "      <th>1137518</th>\n",
       "      <td>28241.0</td>\n",
       "      <td>4220.0</td>\n",
       "      <td>32461.0</td>\n",
       "      <td>ingalls_imports</td>\n",
       "      <td>0.014602</td>\n",
       "      <td>0.013639</td>\n",
       "      <td>0.014470</td>\n",
       "    </tr>\n",
       "    <tr>\n",
       "      <th>81285</th>\n",
       "      <td>24944.0</td>\n",
       "      <td>2187.0</td>\n",
       "      <td>27131.0</td>\n",
       "      <td>Ahlzen</td>\n",
       "      <td>0.012898</td>\n",
       "      <td>0.007069</td>\n",
       "      <td>0.012094</td>\n",
       "    </tr>\n",
       "    <tr>\n",
       "      <th>165061</th>\n",
       "      <td>12510.0</td>\n",
       "      <td>2439.0</td>\n",
       "      <td>14949.0</td>\n",
       "      <td>mapper999</td>\n",
       "      <td>0.006469</td>\n",
       "      <td>0.007883</td>\n",
       "      <td>0.006664</td>\n",
       "    </tr>\n",
       "    <tr>\n",
       "      <th>-1</th>\n",
       "      <td>133648.0</td>\n",
       "      <td>31009.0</td>\n",
       "      <td>164657.0</td>\n",
       "      <td>other</td>\n",
       "      <td>0.069105</td>\n",
       "      <td>0.100224</td>\n",
       "      <td>0.073397</td>\n",
       "    </tr>\n",
       "  </tbody>\n",
       "</table>\n",
       "</div>"
      ],
      "text/plain": [
       "          cnt_nodes  cnt_ways  cnt_total              u_name  per_nodes  \\\n",
       "u_id                                                                      \n",
       " 1034     1201241.0    1280.0  1202521.0           crschmidt   0.621123   \n",
       " 1137433   198117.0  231748.0   429865.0  jremillard-massgis   0.102440   \n",
       " 354704     85290.0    6749.0    92039.0         OceanVortex   0.044101   \n",
       " 326503     73269.0    6827.0    80096.0              wambag   0.037885   \n",
       " 221294     67532.0    1886.0    69418.0          morganwahl   0.034919   \n",
       " 3216582    52372.0   14643.0    67015.0            ryebread   0.027080   \n",
       " 15750      56820.0    6408.0    63228.0      MassGIS Import   0.029380   \n",
       " 1137518    28241.0    4220.0    32461.0     ingalls_imports   0.014602   \n",
       " 81285      24944.0    2187.0    27131.0              Ahlzen   0.012898   \n",
       " 165061     12510.0    2439.0    14949.0           mapper999   0.006469   \n",
       "-1         133648.0   31009.0   164657.0               other   0.069105   \n",
       "\n",
       "          per_ways  per_total  \n",
       "u_id                           \n",
       " 1034     0.004137   0.536031  \n",
       " 1137433  0.749034   0.191615  \n",
       " 354704   0.021813   0.041027  \n",
       " 326503   0.022066   0.035703  \n",
       " 221294   0.006096   0.030943  \n",
       " 3216582  0.047328   0.029872  \n",
       " 15750    0.020711   0.028184  \n",
       " 1137518  0.013639   0.014470  \n",
       " 81285    0.007069   0.012094  \n",
       " 165061   0.007883   0.006664  \n",
       "-1        0.100224   0.073397  "
      ]
     },
     "execution_count": 9,
     "metadata": {},
     "output_type": "execute_result"
    }
   ],
   "source": [
    "pie_data, sum_pie_data = piechart_users(num_contrib=10, df=users)\n",
    "pie_data"
   ]
  },
  {
   "cell_type": "markdown",
   "metadata": {},
   "source": [
    "#### More clutter, please!\n",
    "Now to be not so readable, but contain almost all of the data (>99%):"
   ]
  },
  {
   "cell_type": "code",
   "execution_count": null,
   "metadata": {
    "collapsed": true
   },
   "outputs": [],
   "source": [
    "pie_data, sum_pie_data = piechart_users(num_contrib=301, df=users)"
   ]
  },
  {
   "cell_type": "markdown",
   "metadata": {},
   "source": [
    "#### Summarizing Users\n",
    "It turns out, most of Boston has been mapped by a single user. This means any errors we may find under that name should be fairly widespread, and also those found elsewhere should be rather singular, as most users have fairly few posts. Even if one particular user did not understand the guidelines at the time of posting, the impact of such errors will be relatively small. \n",
    "\n",
    "What this cannot account for is a common misunderstanding of instructions, rather it relies on an average person fully grapsing and adhearing to the posted rules. \n",
    "\n",
    "With that understanding it's time to begin focusing on the nodes and their relative tags."
   ]
  },
  {
   "cell_type": "markdown",
   "metadata": {},
   "source": [
    "### Nodes and Their Tags\n",
    "Let's journey through the node_tags table first, getting a sense of what tags are commonly associated with nodes."
   ]
  },
  {
   "cell_type": "code",
   "execution_count": 11,
   "metadata": {
    "scrolled": true
   },
   "outputs": [
    {
     "name": "stdout",
     "output_type": "stream",
     "text": [
      "There are 293836 node tags in the database. \n",
      "Leaving 1830154 nodes without tags\n",
      "\n",
      "Here is a sample of some node tags:\n"
     ]
    },
    {
     "data": {
      "text/html": [
       "<div>\n",
       "<table border=\"1\" class=\"dataframe\">\n",
       "  <thead>\n",
       "    <tr style=\"text-align: right;\">\n",
       "      <th></th>\n",
       "      <th>n_id</th>\n",
       "      <th>k</th>\n",
       "      <th>v</th>\n",
       "    </tr>\n",
       "  </thead>\n",
       "  <tbody>\n",
       "    <tr>\n",
       "      <th>0</th>\n",
       "      <td>31419556</td>\n",
       "      <td>name</td>\n",
       "      <td>Firebrand Saints</td>\n",
       "    </tr>\n",
       "    <tr>\n",
       "      <th>1</th>\n",
       "      <td>31419556</td>\n",
       "      <td>amenity</td>\n",
       "      <td>restaurant</td>\n",
       "    </tr>\n",
       "    <tr>\n",
       "      <th>2</th>\n",
       "      <td>31419650</td>\n",
       "      <td>url</td>\n",
       "      <td>http://www.mbta.com/schedules_and_maps/subway/...</td>\n",
       "    </tr>\n",
       "    <tr>\n",
       "      <th>3</th>\n",
       "      <td>31419650</td>\n",
       "      <td>name</td>\n",
       "      <td>Kendall/MIT</td>\n",
       "    </tr>\n",
       "    <tr>\n",
       "      <th>4</th>\n",
       "      <td>31419650</td>\n",
       "      <td>railway</td>\n",
       "      <td>subway_entrance</td>\n",
       "    </tr>\n",
       "  </tbody>\n",
       "</table>\n",
       "</div>"
      ],
      "text/plain": [
       "       n_id        k                                                  v\n",
       "0  31419556     name                                   Firebrand Saints\n",
       "1  31419556  amenity                                         restaurant\n",
       "2  31419650      url  http://www.mbta.com/schedules_and_maps/subway/...\n",
       "3  31419650     name                                        Kendall/MIT\n",
       "4  31419650  railway                                    subway_entrance"
      ]
     },
     "execution_count": 11,
     "metadata": {},
     "output_type": "execute_result"
    }
   ],
   "source": [
    "sql_select = (\n",
    "    \"SELECT * \"\n",
    "    \"FROM node_tags \"\n",
    ")\n",
    "node_tags = pd.read_sql(sql_select, conn)\n",
    "num_node_tags = len(node_tags)\n",
    "\n",
    "sql_select = (\n",
    "    \"SELECT * \"\n",
    "    \"FROM nodes\"\n",
    ")\n",
    "nodes = pd.read_sql(sql_select, con=conn, index_col=\"n_id\")\n",
    "\n",
    "nodes_without_tags = nodes[~nodes.index.isin(node_tags['n_id'])]\n",
    "num_nodes_without_tags = len(nodes_without_tags)\n",
    "\n",
    "print(f\"There are {num_node_tags} node tags in the database. \\nLeaving {num_nodes_without_tags} nodes without tags\")\n",
    "\n",
    "print(\"\\nHere is a sample of some node tags:\")\n",
    "node_tags.head()"
   ]
  },
  {
   "cell_type": "markdown",
   "metadata": {},
   "source": [
    "Interesting! There seems to be many nodes without any tag fields. Rather odd in my opinion, but I suppose some nodes may just be placeholders, or waypoints for other objects. \n",
    "Now that we've gotten the table loaded, let's get a value count of the keys (k field):"
   ]
  },
  {
   "cell_type": "code",
   "execution_count": 12,
   "metadata": {
    "scrolled": true
   },
   "outputs": [
    {
     "data": {
      "text/plain": [
       "source                             89590\n",
       "attribution                        89026\n",
       "created_by                         32182\n",
       "name                               10256\n",
       "highway                             8707\n",
       "operator                            5323\n",
       "amenity                             5085\n",
       "ref                                 4926\n",
       "network                             4765\n",
       "public_transport                    4661\n",
       "bus                                 4610\n",
       "addr:housenumber                    1807\n",
       "addr:street                         1806\n",
       "ele                                 1710\n",
       "gnis:feature_id                     1561\n",
       "natural                             1525\n",
       "man_made                            1389\n",
       "addr:postcode                       1149\n",
       "addr:city                           1101\n",
       "gnis:created                        1057\n",
       "addr:state                          1032\n",
       "gnis:county_id                      1020\n",
       "gnis:state_id                       1019\n",
       "shop                                 784\n",
       "phone                                721\n",
       "website                              695\n",
       "cuisine                              661\n",
       "railway                              539\n",
       "gnis:county_name                     533\n",
       "gnis:import_uuid                     493\n",
       "                                   ...  \n",
       "name:lt                                1\n",
       "name:lv                                1\n",
       "microbrewery                           1\n",
       "contact:twitter                        1\n",
       "sport_1                                1\n",
       "name:be                                1\n",
       "name:etymology:wikidata                1\n",
       "oven                                   1\n",
       "historical                             1\n",
       "water                                  1\n",
       "addr:floor                             1\n",
       "hygrometer                             1\n",
       "seamark:beacon_lateral:category        1\n",
       "subject:wikidata                       1\n",
       "name:pl                                1\n",
       "key                                    1\n",
       "drive_in                               1\n",
       "comment                                1\n",
       "addr:place                             1\n",
       "building:yard                          1\n",
       "generator:output:steam                 1\n",
       "contact:google_plus                    1\n",
       "other                                  1\n",
       "library                                1\n",
       "Keyword                                1\n",
       "name:eo                                1\n",
       "capital                                1\n",
       "landmark                               1\n",
       "demolished:amenity                     1\n",
       "generator:method                       1\n",
       "dtype: int64"
      ]
     },
     "execution_count": 12,
     "metadata": {},
     "output_type": "execute_result"
    }
   ],
   "source": [
    "pd.value_counts(node_tags['k'].values.ravel())"
   ]
  },
  {
   "cell_type": "markdown",
   "metadata": {},
   "source": [
    "Looking a bit closer at our top few tags, source attribution and created_by are all by definition, quite similar. The terms are almost completely interchangable. I think this warrants a further level of exploration:"
   ]
  },
  {
   "cell_type": "code",
   "execution_count": 13,
   "metadata": {
    "scrolled": true
   },
   "outputs": [
    {
     "data": {
      "text/plain": [
       "massgis_import_v0.1_20071008193615                                                                            42291\n",
       "massgis_import_v0.1_20071009092358                                                                             9984\n",
       "massgis_import_v0.1_20071009101959                                                                             7544\n",
       "massgis_import_v0.1_20071009091249                                                                             5327\n",
       "massgis_import_v0.1_20071009091627                                                                             5017\n",
       "massdot_import_081211                                                                                          4534\n",
       "massgis_import_v0.1_20071009102616                                                                             3814\n",
       "massgis_import_v0.1_20071009092815                                                                             2252\n",
       "massgis_import_v0.1_20071009094650                                                                             2249\n",
       "massgis_import_v0.1_20071013192438                                                                             1096\n",
       "massgis_import_v0.1_20071009094826                                                                             1041\n",
       "massgis_import_v0.1_20090107171258                                                                              742\n",
       "massgis_import_v0.1_20071008165629                                                                              599\n",
       "massgis_import_v0.1_20071008160221                                                                              548\n",
       "USGS Geonames                                                                                                   494\n",
       "massgis_import_v0.1_20071009094247                                                                              329\n",
       "massgis_import_v0.1_20071009085243                                                                              285\n",
       "Bing                                                                                                            243\n",
       "massgis_import_v0.1_20071010205040                                                                              229\n",
       "massgis_import_v0.1_20071009085031                                                                              198\n",
       "county_import_v0.1                                                                                               92\n",
       "survey                                                                                                           73\n",
       "massdot_import_081511                                                                                            70\n",
       "Office of Geographic Information (MassGIS), Commonwealth of Massachusetts, Information Technology Division       60\n",
       "massgis_import_v0.1_20071013192438;massgis_import_v0.1_20071013193425                                            58\n",
       "massgis_import_v0.1_20071008153255                                                                               57\n",
       "massgis_import_v0.1_20071013193425                                                                               39\n",
       "massgis_import_v0.1_20071008160221;massgis_import_v0.1_20071009094826                                            37\n",
       "massgis_import_v0.1_20071008150341                                                                               26\n",
       "bing                                                                                                             21\n",
       "                                                                                                              ...  \n",
       "http://www.thecrimson.com/article/2006/2/1/historic-garment-district-saved-strongcorrection-and/                  1\n",
       "visit                                                                                                             1\n",
       "http://www.dotnews.com/2015/kosciuszko-circle-national-registry-historic-places                                   1\n",
       "Owner, Gregory Curci                                                                                              1\n",
       "massgis_import_v0.1_20071008193615;massgis_import_v0.1_20071013192438                                             1\n",
       "James Simard                                                                                                      1\n",
       "http://www.publicartboston.com/content/arthur-fiedler-memorial                                                    1\n",
       "usps.com                                                                                                          1\n",
       "http://www.wconaz.org/                                                                                            1\n",
       "consulate website                                                                                                 1\n",
       "massgis_import_v0.1_20071008193615; massgis_import_v0.1_20071009094247                                            1\n",
       "Jaume Plensa sculpture                                                                                            1\n",
       "http://www.cambridgema.gov/~/media/Files/CDD/EconDev/EntreprenaursTechCos/ed_company_list_201406.ashx             1\n",
       "afree                                                                                                             1\n",
       "http://library.enc.edu/                                                                                           1\n",
       "experience                                                                                                        1\n",
       "http://www.colonnadehotel.com                                                                                     1\n",
       "http://investors.foundationmedicine.com/releases.cfm                                                              1\n",
       "Yahoo                                                                                                             1\n",
       "http://www.jphs.org/victorian/civil-war-monument-and-streets.html                                                 1\n",
       "http://www.dunkindonuts.com/                                                                                      1\n",
       "local                                                                                                             1\n",
       "massgis_import_v0.1_20071008193615;massgis_import_v0.1_20071009102616                                             1\n",
       "Kelsey Lynne Anderson                                                                                             1\n",
       "massgis_import_v0.1_20071008193615;massgis_import_v0.1_20071009101959                                             1\n",
       "http://www.brasseriejo.com                                                                                        1\n",
       "http://www.dudley.harvard.edu/icb/icb.do?keyword=k73092&pageid=icb.page359690                                     1\n",
       "https://www.historicnewengland.org/property/eustis-estate-museum-study-center/                                    1\n",
       "http://web.mit.edu/facilities/environmental/cogen.html                                                            1\n",
       "167 Sidney Street is a 26,589-square-foot biotech building.                                                       1\n",
       "dtype: int64"
      ]
     },
     "execution_count": 13,
     "metadata": {},
     "output_type": "execute_result"
    }
   ],
   "source": [
    "# what values are linked to the source k tag:\n",
    "pd.value_counts(node_tags[node_tags.k == \"source\"]['v'].values.ravel())"
   ]
  },
  {
   "cell_type": "code",
   "execution_count": 14,
   "metadata": {},
   "outputs": [
    {
     "data": {
      "text/plain": [
       "Office of Geographic and Environmental Information (MassGIS)                                                                             84181\n",
       "massDOT                                                                                                                                   4610\n",
       "Office of Geographic and Environmental Information (MassGIS), Massachusetts Emergency Management Agency                                    111\n",
       "USGS 2001 County Boundary                                                                                                                   94\n",
       "Office of Geographic and Environmental Information (MassGIS), Commonwealth of Massachusetts Executive Office of Environmental Affairs       24\n",
       "Office of Geographic and Environmental Information (MassGIS), Massachusetts Emergency Management Agency (MEMA)                               6\n",
       "dtype: int64"
      ]
     },
     "execution_count": 14,
     "metadata": {},
     "output_type": "execute_result"
    }
   ],
   "source": [
    "# what values are linked to the attribution k tag:\n",
    "pd.value_counts(node_tags[node_tags.k == \"attribution\"]['v'].values.ravel())"
   ]
  },
  {
   "cell_type": "code",
   "execution_count": 15,
   "metadata": {},
   "outputs": [
    {
     "data": {
      "text/plain": [
       "JOSM               32123\n",
       "Potlatch 0.10f        51\n",
       "Merkaartor 0.12        3\n",
       "Merkaartor 0.13        2\n",
       "xybot                  2\n",
       "iLOE 1.9               1\n",
       "dtype: int64"
      ]
     },
     "execution_count": 15,
     "metadata": {},
     "output_type": "execute_result"
    }
   ],
   "source": [
    "# what values are linked to the created_by k tag:\n",
    "pd.value_counts(node_tags[node_tags.k == \"created_by\"]['v'].values.ravel())"
   ]
  },
  {
   "cell_type": "markdown",
   "metadata": {},
   "source": [
    "#### Top 3 Node_Tags\n",
    "Well our top three tags have turned over some relatively useful information. We can see Mass GIS makes up a huge number of the nodes, with JOSM also accounting for a fair portion. I'd like to examine what users have created these GIS, and JOSM tagged nodes. Let's look at the nodes head."
   ]
  },
  {
   "cell_type": "code",
   "execution_count": 16,
   "metadata": {},
   "outputs": [
    {
     "data": {
      "text/html": [
       "<div>\n",
       "<table border=\"1\" class=\"dataframe\">\n",
       "  <thead>\n",
       "    <tr style=\"text-align: right;\">\n",
       "      <th></th>\n",
       "      <th>u_id</th>\n",
       "      <th>lat</th>\n",
       "      <th>lon</th>\n",
       "    </tr>\n",
       "    <tr>\n",
       "      <th>n_id</th>\n",
       "      <th></th>\n",
       "      <th></th>\n",
       "      <th></th>\n",
       "    </tr>\n",
       "  </thead>\n",
       "  <tbody>\n",
       "    <tr>\n",
       "      <th>30730952</th>\n",
       "      <td>326503</td>\n",
       "      <td>42.3678097</td>\n",
       "      <td>-71.0218711</td>\n",
       "    </tr>\n",
       "    <tr>\n",
       "      <th>30730953</th>\n",
       "      <td>326503</td>\n",
       "      <td>42.3677364</td>\n",
       "      <td>-71.0218568</td>\n",
       "    </tr>\n",
       "    <tr>\n",
       "      <th>30730954</th>\n",
       "      <td>326503</td>\n",
       "      <td>42.3676084</td>\n",
       "      <td>-71.0218168</td>\n",
       "    </tr>\n",
       "    <tr>\n",
       "      <th>30730955</th>\n",
       "      <td>326503</td>\n",
       "      <td>42.3675229</td>\n",
       "      <td>-71.0218486</td>\n",
       "    </tr>\n",
       "    <tr>\n",
       "      <th>30730956</th>\n",
       "      <td>326503</td>\n",
       "      <td>42.3674548</td>\n",
       "      <td>-71.0218865</td>\n",
       "    </tr>\n",
       "  </tbody>\n",
       "</table>\n",
       "</div>"
      ],
      "text/plain": [
       "            u_id         lat          lon\n",
       "n_id                                     \n",
       "30730952  326503  42.3678097  -71.0218711\n",
       "30730953  326503  42.3677364  -71.0218568\n",
       "30730954  326503  42.3676084  -71.0218168\n",
       "30730955  326503  42.3675229  -71.0218486\n",
       "30730956  326503  42.3674548  -71.0218865"
      ]
     },
     "execution_count": 16,
     "metadata": {},
     "output_type": "execute_result"
    }
   ],
   "source": [
    "nodes.head()"
   ]
  },
  {
   "cell_type": "markdown",
   "metadata": {},
   "source": [
    "#### GIS Uploaded Nodes\n",
    "Now to look at the GIS Nodes. I want to verify these originated from the GIS Accounts, I have a suspicion that crshmidt could be uploading from GIS too without a handle in the u_name. "
   ]
  },
  {
   "cell_type": "code",
   "execution_count": 25,
   "metadata": {},
   "outputs": [
    {
     "data": {
      "text/html": [
       "<div>\n",
       "<table border=\"1\" class=\"dataframe\">\n",
       "  <thead>\n",
       "    <tr style=\"text-align: right;\">\n",
       "      <th></th>\n",
       "      <th>u_id</th>\n",
       "      <th>lat</th>\n",
       "      <th>lon</th>\n",
       "    </tr>\n",
       "    <tr>\n",
       "      <th>n_id</th>\n",
       "      <th></th>\n",
       "      <th></th>\n",
       "      <th></th>\n",
       "    </tr>\n",
       "  </thead>\n",
       "  <tbody>\n",
       "    <tr>\n",
       "      <th>30730952</th>\n",
       "      <td>326503</td>\n",
       "      <td>42.3678097</td>\n",
       "      <td>-71.0218711</td>\n",
       "    </tr>\n",
       "    <tr>\n",
       "      <th>30730953</th>\n",
       "      <td>326503</td>\n",
       "      <td>42.3677364</td>\n",
       "      <td>-71.0218568</td>\n",
       "    </tr>\n",
       "    <tr>\n",
       "      <th>30730954</th>\n",
       "      <td>326503</td>\n",
       "      <td>42.3676084</td>\n",
       "      <td>-71.0218168</td>\n",
       "    </tr>\n",
       "    <tr>\n",
       "      <th>30730955</th>\n",
       "      <td>326503</td>\n",
       "      <td>42.3675229</td>\n",
       "      <td>-71.0218486</td>\n",
       "    </tr>\n",
       "    <tr>\n",
       "      <th>30730956</th>\n",
       "      <td>326503</td>\n",
       "      <td>42.3674548</td>\n",
       "      <td>-71.0218865</td>\n",
       "    </tr>\n",
       "  </tbody>\n",
       "</table>\n",
       "</div>"
      ],
      "text/plain": [
       "            u_id         lat          lon\n",
       "n_id                                     \n",
       "30730952  326503  42.3678097  -71.0218711\n",
       "30730953  326503  42.3677364  -71.0218568\n",
       "30730954  326503  42.3676084  -71.0218168\n",
       "30730955  326503  42.3675229  -71.0218486\n",
       "30730956  326503  42.3674548  -71.0218865"
      ]
     },
     "execution_count": 25,
     "metadata": {},
     "output_type": "execute_result"
    }
   ],
   "source": [
    "nodes.head()"
   ]
  },
  {
   "cell_type": "code",
   "execution_count": 24,
   "metadata": {
    "scrolled": true
   },
   "outputs": [
    {
     "name": "stdout",
     "output_type": "stream",
     "text": [
      "User crshmidt has posted: 1201241 nodes\n",
      "These nodes are associated with 4530 tags\n",
      "These tags are associated with 1414 unique nodes\n",
      "Meaning, they have posted 1199827 untagged nodes\n",
      "Of these nodes, 1414 have been tagged with GIS or JOSM\n"
     ]
    }
   ],
   "source": [
    "# crshmidt is u_id 1034, here we get all nodes with that u_id\n",
    "crshmidt_nodes = nodes[nodes['u_id'] == 1034].index.tolist()\n",
    "print(f\"User crshmidt has posted: {len(crshmidt_nodes)} nodes\")\n",
    "\n",
    "# and here we grab all node_tags associated with those nodes\n",
    "crshmidt_node_tags = node_tags[\n",
    "    (node_tags['n_id'].isin(crshmidt_nodes))\n",
    "]\n",
    "print(f\"These nodes are associated with {len(crshmidt_node_tags)} tags\")\n",
    "print(f\"These tags are associated with {len(pd.value_counts(crshmidt_node_tags['n_id'].values.ravel()))} unique nodes\")\n",
    "print(f\"Meaning, they have posted {len(crshmidt_nodes) - len(pd.value_counts(crshmidt_node_tags['n_id'].values.ravel()))} \"\n",
    "      \"untagged nodes\"\n",
    "     )\n",
    "\n",
    "# here is just GIS tags\n",
    "crshmidt_node_tags = node_tags[\n",
    "    (node_tags['n_id'].isin(crshmidt_nodes)) & \n",
    "    (node_tags['v'].str.contains('gis|Office of Geographic|JOSM', case=False,))\n",
    "]\n",
    "\n",
    "num_crshmidt_node_tags = len(pd.value_counts(crshmidt_node_tags['n_id'].values.ravel()))\n",
    "print(f\"Of these nodes, {num_crshmidt_node_tags} have been tagged with GIS or JOSM\")"
   ]
  },
  {
   "cell_type": "markdown",
   "metadata": {},
   "source": [
    "#### still super weird.\n",
    "So apparently only 1,414 nodes have been tagged by user crshmidt, a user who has posted 1,201,241 nodes has only tagged 1,414 of them. All of these tags have been attributed to either the desktop OSM editor, or a direct GIS Upload, meaning the sample contained will most likely be of high quality. \n",
    "\n",
    "Other than that I'm not too sure what other avenues to go down regarding this user. They definitely still seem to impose uncertainty on the data, and I can only hope for now that they've done good with the amount they've created. "
   ]
  },
  {
   "cell_type": "markdown",
   "metadata": {},
   "source": [
    "### Problem tags?\n",
    "Are there any tags we can find that directly go against OSM practices?\n",
    "\n",
    "Examples here are units in American rather than Metric, improper use of ele tags, or why there are 3 fields to describe who made the node. "
   ]
  },
  {
   "cell_type": "code",
   "execution_count": 18,
   "metadata": {
    "scrolled": true
   },
   "outputs": [
    {
     "name": "stderr",
     "output_type": "stream",
     "text": [
      "C:\\Users\\thoward3\\AppData\\Local\\Continuum\\Anaconda3\\lib\\site-packages\\ipykernel_launcher.py:2: UserWarning: This pattern has match groups. To actually get the groups, use str.extract.\n",
      "  \n"
     ]
    },
    {
     "data": {
      "text/html": [
       "<div>\n",
       "<table border=\"1\" class=\"dataframe\">\n",
       "  <thead>\n",
       "    <tr style=\"text-align: right;\">\n",
       "      <th></th>\n",
       "      <th>n_id</th>\n",
       "      <th>k</th>\n",
       "      <th>v</th>\n",
       "    </tr>\n",
       "  </thead>\n",
       "  <tbody>\n",
       "    <tr>\n",
       "      <th>222247</th>\n",
       "      <td>586843485</td>\n",
       "      <td>note</td>\n",
       "      <td>214,638 sq ft.  Research Labs. Millennium: The...</td>\n",
       "    </tr>\n",
       "    <tr>\n",
       "      <th>282191</th>\n",
       "      <td>3352946806</td>\n",
       "      <td>note</td>\n",
       "      <td>45 Sidney St. is part of a matched pair of bui...</td>\n",
       "    </tr>\n",
       "    <tr>\n",
       "      <th>282205</th>\n",
       "      <td>3352994763</td>\n",
       "      <td>note</td>\n",
       "      <td>Partners HealthCare, a network of physicians, ...</td>\n",
       "    </tr>\n",
       "    <tr>\n",
       "      <th>282259</th>\n",
       "      <td>3354226510</td>\n",
       "      <td>note</td>\n",
       "      <td>Owned by MIT.  Life sciences and high tech.  O...</td>\n",
       "    </tr>\n",
       "    <tr>\n",
       "      <th>282300</th>\n",
       "      <td>3354860761</td>\n",
       "      <td>note</td>\n",
       "      <td>81,589 sq. ft.</td>\n",
       "    </tr>\n",
       "  </tbody>\n",
       "</table>\n",
       "</div>"
      ],
      "text/plain": [
       "              n_id     k                                                  v\n",
       "222247   586843485  note  214,638 sq ft.  Research Labs. Millennium: The...\n",
       "282191  3352946806  note  45 Sidney St. is part of a matched pair of bui...\n",
       "282205  3352994763  note  Partners HealthCare, a network of physicians, ...\n",
       "282259  3354226510  note  Owned by MIT.  Life sciences and high tech.  O...\n",
       "282300  3354860761  note                                     81,589 sq. ft."
      ]
     },
     "execution_count": 18,
     "metadata": {},
     "output_type": "execute_result"
    }
   ],
   "source": [
    "# using pandas contains to hunt down American units. \n",
    "node_tags[node_tags['v'].str.contains('((\\d+,?\\d+,?\\d+)\\s((sq.?)?\\s?ft\\.?))')]"
   ]
  },
  {
   "cell_type": "markdown",
   "metadata": {},
   "source": [
    "#### Who's foot is that?\n",
    "Yeah idk, it's getting late and the puns may start leaking in here. \n",
    "\n",
    "Anywho, yes, turns our there are some feet references in here, not many though! \n",
    "\n",
    "Thankfully these dirty feets can be cleaned using carefully crafted regexes (regi? regis? A heard of regex?). Something to the effect of:\n",
    "```python\n",
    "# to locate all rows with American Units:\n",
    "find = re.compile('(\\sft\\.?)|(\\sin\\.)', re.IGNORECASE)\n",
    "search = re.search(find, row)\n",
    "# to fix rows with feet:\n",
    "def convert_ft(matchobj):\n",
    "    return matchobj / 0.3\n",
    "\n",
    "if search.group(0): re.sub(row, convert_ft)\n",
    "etc...\n",
    "```\n",
    "Using a combination of re and pandas the task could be handled behind the scenes and from there more strict enforcement could be implemented relatively easily. This may be tough for some US-based users to adjust to, as some will desperately want to continue using feet, but the OSM project should adhear to the openness promoted by the metric system (which is much more widely accessible). "
   ]
  },
  {
   "cell_type": "markdown",
   "metadata": {},
   "source": [
    "### Amenities:\n",
    "What is there in Boston anyway?"
   ]
  },
  {
   "cell_type": "code",
   "execution_count": 19,
   "metadata": {},
   "outputs": [
    {
     "data": {
      "text/plain": [
       "bench                       1063\n",
       "restaurant                   647\n",
       "school                       508\n",
       "place_of_worship             283\n",
       "library                      278\n",
       "bicycle_parking              273\n",
       "cafe                         257\n",
       "fast_food                    189\n",
       "bicycle_rental               138\n",
       "post_box                     115\n",
       "waste_basket                  95\n",
       "fire_station                  90\n",
       "parking                       87\n",
       "hospital                      78\n",
       "bank                          78\n",
       "fountain                      67\n",
       "bar                           67\n",
       "fuel                          66\n",
       "pub                           62\n",
       "atm                           55\n",
       "post_office                   46\n",
       "pharmacy                      46\n",
       "police                        43\n",
       "toilets                       41\n",
       "drinking_water                40\n",
       "car_sharing                   36\n",
       "bicycle_repair_station        29\n",
       "theatre                       23\n",
       "grave_yard                    18\n",
       "recycling                     17\n",
       "                            ... \n",
       "yes                            2\n",
       "bureau_de_change               2\n",
       "nightclub                      2\n",
       "clinic                         2\n",
       "charging_station               2\n",
       "ice_cream                      2\n",
       "car_wash                       2\n",
       "kindergarten                   2\n",
       "coworking_space                2\n",
       "gym                            1\n",
       "bakery                         1\n",
       "hairdresser                    1\n",
       "waste_disposal                 1\n",
       "Conservation Land              1\n",
       "money_transfer                 1\n",
       "shelter                        1\n",
       "clock                          1\n",
       "embassy                        1\n",
       "plumber                        1\n",
       "police dist 7                  1\n",
       "nursing_home                   1\n",
       "driving_school                 1\n",
       "music_club                     1\n",
       "studio                         1\n",
       "dojo                           1\n",
       "AAA Southern New England       1\n",
       "dive_centre                    1\n",
       "computer_cluster               1\n",
       "luggage_locker                 1\n",
       "books                          1\n",
       "dtype: int64"
      ]
     },
     "execution_count": 19,
     "metadata": {},
     "output_type": "execute_result"
    }
   ],
   "source": [
    "pd.value_counts(node_tags[node_tags.k == \"amenity\"]['v'].values.ravel())"
   ]
  },
  {
   "cell_type": "markdown",
   "metadata": {},
   "source": [
    "#### So many places to sit, so little time\n",
    "Leaving behind my newfound dreams of sitting in every tagged bench in Boston, let's look at places of worship, as I've been thinking about attending some local churches as of late. "
   ]
  },
  {
   "cell_type": "code",
   "execution_count": 20,
   "metadata": {
    "scrolled": true
   },
   "outputs": [
    {
     "data": {
      "text/plain": [
       "christian                 254\n",
       "jewish                      9\n",
       "unitarian_universalist      2\n",
       "buddhist                    1\n",
       "muslim                      1\n",
       "dtype: int64"
      ]
     },
     "execution_count": 20,
     "metadata": {},
     "output_type": "execute_result"
    }
   ],
   "source": [
    "places_of_worship = node_tags[(node_tags.k == \"amenity\") &  (node_tags.v == \"place_of_worship\")]['n_id']\n",
    "places_of_worship = node_tags[node_tags['n_id'].isin(places_of_worship)]\n",
    "pd.value_counts(places_of_worship[places_of_worship.k == \"religion\"]['v'].values.ravel())"
   ]
  },
  {
   "cell_type": "markdown",
   "metadata": {},
   "source": [
    "#### Skewed religions\n",
    "That is an overwhelming amount of Christian places of worship. Especially considering the size and diversity of the city. "
   ]
  },
  {
   "cell_type": "markdown",
   "metadata": {},
   "source": [
    "#### Where to eat?\n",
    "Now to look at restaurant tags, I need to find something to eat!"
   ]
  },
  {
   "cell_type": "code",
   "execution_count": 21,
   "metadata": {},
   "outputs": [
    {
     "data": {
      "text/plain": [
       "pizza                                          40\n",
       "american                                       35\n",
       "italian                                        31\n",
       "chinese                                        29\n",
       "mexican                                        27\n",
       "indian                                         21\n",
       "thai                                           19\n",
       "asian                                          16\n",
       "japanese                                       13\n",
       "regional                                       12\n",
       "sandwich                                       11\n",
       "seafood                                        10\n",
       "ice_cream                                       8\n",
       "sushi                                           8\n",
       "international                                   7\n",
       "french                                          6\n",
       "ramen                                           5\n",
       "fish                                            4\n",
       "diner                                           4\n",
       "burger                                          4\n",
       "turkish                                         4\n",
       "mediterranean                                   3\n",
       "tapas                                           3\n",
       "vegetarian                                      3\n",
       "greek                                           3\n",
       "barbecue                                        2\n",
       "pub                                             2\n",
       "mediterranean;greek                             2\n",
       "vietnamese                                      2\n",
       "steak_house                                     2\n",
       "                                               ..\n",
       "venezuelan                                      1\n",
       "ethiopian                                       1\n",
       "frozen_yogurt                                   1\n",
       "peruvian                                        1\n",
       "vegan;international;vegetarian                  1\n",
       "afghan                                          1\n",
       "Burmese                                         1\n",
       "Israeli                                         1\n",
       "korean                                          1\n",
       "falafel                                         1\n",
       "Italian,_pizza,_pasta                           1\n",
       "breakfast;sandwich;burger                       1\n",
       "seasonal                                        1\n",
       "Greek-American                                  1\n",
       "greek;mediterranean                             1\n",
       "bagel                                           1\n",
       "donut                                           1\n",
       "korean;sandwich;deli                            1\n",
       "shawarma                                        1\n",
       "Scottish                                        1\n",
       "breakfast;sandwich;coffee_shop                  1\n",
       "Italian panini, subs, pizza, calzone, zuppe     1\n",
       "Modern American                                 1\n",
       "steakhouse                                      1\n",
       "ramen_noodle,_japanese                          1\n",
       "eritrean                                        1\n",
       "pizza;seafood;international                     1\n",
       "deli                                            1\n",
       "pizza;burger;sandwich                           1\n",
       "moroccan                                        1\n",
       "dtype: int64"
      ]
     },
     "execution_count": 21,
     "metadata": {},
     "output_type": "execute_result"
    }
   ],
   "source": [
    "places_to_eat = node_tags[(node_tags.k == \"amenity\") & (node_tags.v == \"restaurant\")]['n_id']\n",
    "places_to_eat = node_tags[node_tags['n_id'].isin(places_to_eat)]\n",
    "pd.value_counts(places_to_eat[(places_to_eat.k == \"cuisine\")]['v'].values.ravel())"
   ]
  },
  {
   "cell_type": "markdown",
   "metadata": {},
   "source": [
    "#### Problem found!\n",
    "Oh snap! There are some doubled tags in this field! \n",
    "\n",
    "For an SQL Approach to a fix: you'd have to create a new table, let's say \"restaurant_cuisine_types\" with fields (n_id, cuisine). This would allow normalization of the field, splitting it into many more rows, but each still uniquely identifying which nodes are what types of food. \n",
    "\n",
    "This could be done during the initial parsing, or programmatically at this point. \n",
    "\n",
    "To accomplish it programmatically at this point, assuming there was a table created called tblRestaurant_cuisine_types:\n",
    "```python\n",
    "sql_insert = \"INSERT OR IGNORE INTO tblRestaurant_cuisine_types (n_id, v) VALUES ({0}, {1})\"\n",
    "for node in places_to_eat[places_to_eat.k == \"cuisine\"]:\n",
    "    v = node['v']\n",
    "    if \";\" in v: arr = v.split(\";\")\n",
    "    if \",\" in v: arr = v.split(\",\")\n",
    "    if len(arr) > 0:\n",
    "        for v in arr:\n",
    "            c.execute(sql_insert.format(node['n_id'], v)\n",
    "        return True\n",
    "    c.execute(sql_insert.format(node['n_id'], v)\n",
    "    return True\n",
    "\n",
    "```"
   ]
  },
  {
   "cell_type": "code",
   "execution_count": 22,
   "metadata": {},
   "outputs": [
    {
     "name": "stdout",
     "output_type": "stream",
     "text": [
      "turns out there are 5 vegan restaurants\n"
     ]
    },
    {
     "data": {
      "text/html": [
       "<div>\n",
       "<table border=\"1\" class=\"dataframe\">\n",
       "  <thead>\n",
       "    <tr style=\"text-align: right;\">\n",
       "      <th></th>\n",
       "      <th>n_id</th>\n",
       "      <th>k</th>\n",
       "      <th>v</th>\n",
       "    </tr>\n",
       "  </thead>\n",
       "  <tbody>\n",
       "    <tr>\n",
       "      <th>267942</th>\n",
       "      <td>1447593250</td>\n",
       "      <td>name</td>\n",
       "      <td>Veggie Galaxy</td>\n",
       "    </tr>\n",
       "    <tr>\n",
       "      <th>283379</th>\n",
       "      <td>3499703019</td>\n",
       "      <td>name</td>\n",
       "      <td>Kathmandu Spice</td>\n",
       "    </tr>\n",
       "    <tr>\n",
       "      <th>288549</th>\n",
       "      <td>4270153390</td>\n",
       "      <td>name</td>\n",
       "      <td>Blue State Coffee</td>\n",
       "    </tr>\n",
       "    <tr>\n",
       "      <th>288557</th>\n",
       "      <td>4270171390</td>\n",
       "      <td>name</td>\n",
       "      <td>My Thai vegan cafe</td>\n",
       "    </tr>\n",
       "    <tr>\n",
       "      <th>288566</th>\n",
       "      <td>4270176889</td>\n",
       "      <td>name</td>\n",
       "      <td>Cuong's Vegan Sandwiches</td>\n",
       "    </tr>\n",
       "  </tbody>\n",
       "</table>\n",
       "</div>"
      ],
      "text/plain": [
       "              n_id     k                         v\n",
       "267942  1447593250  name             Veggie Galaxy\n",
       "283379  3499703019  name           Kathmandu Spice\n",
       "288549  4270153390  name        Blue State Coffee \n",
       "288557  4270171390  name       My Thai vegan cafe \n",
       "288566  4270176889  name  Cuong's Vegan Sandwiches"
      ]
     },
     "execution_count": 22,
     "metadata": {},
     "output_type": "execute_result"
    }
   ],
   "source": [
    "# but how many options do I have as a vegan?\n",
    "num_vegan_eats = pd.value_counts(places_to_eat[\n",
    "    (places_to_eat.k == \"cuisine\") & \n",
    "    (places_to_eat.v.str.contains('vegan', case=False))\n",
    "]['v'].values.ravel())\n",
    "\n",
    "# and what about names?\n",
    "vegan_node_tags = node_tags[\n",
    "    (\n",
    "        node_tags['n_id'].isin(\n",
    "            places_to_eat[\n",
    "                (places_to_eat.k == \"cuisine\") & \n",
    "                (places_to_eat.v.str.contains('vegan', case=False))\n",
    "            ]['n_id']\n",
    "        )\n",
    "    ) & (\n",
    "        node_tags.k.isin([\"name\"])\n",
    "    ) \n",
    "]\n",
    "print(f\"turns out there are {len(num_vegan_eats)} vegan restaurants\")\n",
    "vegan_node_tags"
   ]
  },
  {
   "cell_type": "markdown",
   "metadata": {},
   "source": [
    "#### No way! \n",
    "I just found two new vegan restaurants I had yet to discover :)\n",
    "\n",
    "### that makes me wonder though..."
   ]
  },
  {
   "cell_type": "code",
   "execution_count": 23,
   "metadata": {},
   "outputs": [
    {
     "data": {
      "text/html": [
       "<div>\n",
       "<table border=\"1\" class=\"dataframe\">\n",
       "  <thead>\n",
       "    <tr style=\"text-align: right;\">\n",
       "      <th></th>\n",
       "      <th>n_id</th>\n",
       "      <th>k</th>\n",
       "      <th>v</th>\n",
       "    </tr>\n",
       "  </thead>\n",
       "  <tbody>\n",
       "    <tr>\n",
       "      <th>267942</th>\n",
       "      <td>1447593250</td>\n",
       "      <td>name</td>\n",
       "      <td>Veggie Galaxy</td>\n",
       "    </tr>\n",
       "    <tr>\n",
       "      <th>283379</th>\n",
       "      <td>3499703019</td>\n",
       "      <td>name</td>\n",
       "      <td>Kathmandu Spice</td>\n",
       "    </tr>\n",
       "    <tr>\n",
       "      <th>288549</th>\n",
       "      <td>4270153390</td>\n",
       "      <td>name</td>\n",
       "      <td>Blue State Coffee</td>\n",
       "    </tr>\n",
       "    <tr>\n",
       "      <th>288557</th>\n",
       "      <td>4270171390</td>\n",
       "      <td>name</td>\n",
       "      <td>My Thai vegan cafe</td>\n",
       "    </tr>\n",
       "    <tr>\n",
       "      <th>288566</th>\n",
       "      <td>4270176889</td>\n",
       "      <td>name</td>\n",
       "      <td>Cuong's Vegan Sandwiches</td>\n",
       "    </tr>\n",
       "  </tbody>\n",
       "</table>\n",
       "</div>"
      ],
      "text/plain": [
       "              n_id     k                         v\n",
       "267942  1447593250  name             Veggie Galaxy\n",
       "283379  3499703019  name           Kathmandu Spice\n",
       "288549  4270153390  name        Blue State Coffee \n",
       "288557  4270171390  name       My Thai vegan cafe \n",
       "288566  4270176889  name  Cuong's Vegan Sandwiches"
      ]
     },
     "execution_count": 23,
     "metadata": {},
     "output_type": "execute_result"
    }
   ],
   "source": [
    "# what if I leave out the cuisine tag\n",
    "node_tags[\n",
    "    (\n",
    "        node_tags['n_id'].isin(\n",
    "            node_tags[\n",
    "                (node_tags.v.str.contains('vegan', case=False))\n",
    "            ]['n_id']\n",
    "        )\n",
    "    ) & (\n",
    "        node_tags.k.isin([\"name\"])\n",
    "    ) \n",
    "]"
   ]
  },
  {
   "cell_type": "markdown",
   "metadata": {},
   "source": [
    "#### okay, I'm a bit sad about that\n",
    "Oh well though, still good to know of a few vegan places I hadn't previously! "
   ]
  },
  {
   "cell_type": "markdown",
   "metadata": {},
   "source": [
    "## In Summary\n",
    "I believe boston is an incredibly diverse place, with much to learn about. The city truly fascinates me, and although I expected the religions to be slightly skewed, I never expected there to be so many nodes from one single user, and I also never expected the dataset to be so massive!\n",
    "\n",
    "I'm really glad to see the amount of pizza shops, it honestly brought a smile to my lips, I would like to see more vegan options though, it's just sad to see such few offerings (although I know most of them are amazing)."
   ]
  },
  {
   "cell_type": "markdown",
   "metadata": {},
   "source": [
    "# Aside: Missing Persons\n",
    "Here is the error I committed, along with my investigation and fix. Please excuse my stupidity and enjoy my efforts in vein :)"
   ]
  },
  {
   "cell_type": "markdown",
   "metadata": {},
   "source": [
    "```python\n",
    "# connect to our db:\n",
    "conn = sql.connect('bostonV2_python.db')\n",
    "sql_select = (\n",
    "    \"SELECT users.u_name as u_name_{0}, users.u_id, count(*) as cnt_{0} \"\n",
    "    \"FROM {0}, users \"\n",
    "    \"WHERE users.u_id = {0}.u_id \"\n",
    "    \"GROUP BY users.u_id \"\n",
    "    \"ORDER BY cnt_{0} desc \"\n",
    "    \"LIMIT 250 \"\n",
    ")\n",
    "# get our users and a count of their contributions to the nodes and ways\n",
    "users = pd.concat(\n",
    "    objs = [\n",
    "        pd.read_sql(sql_select.format(\"nodes\"), con=conn, index_col=\"u_id\"), \n",
    "        pd.read_sql(sql_select.format(\"ways\"), con=conn, index_col=\"u_id\")\n",
    "    ],\n",
    "    axis=1,\n",
    "    join='outer',\n",
    ")\n",
    "# sort the df by nodes, then ways desc so we can see our top users\n",
    "users.sort_values(\n",
    "    by=['cnt_nodes','cnt_ways'],\n",
    "    ascending=False, \n",
    "    inplace=True\n",
    ")\n",
    "# fill NaNs with 0\n",
    "users.fillna(0, axis=1, inplace=True)\n",
    "# cast as uint32, which takes slightly less memory than float64 (which is default)\n",
    "users = users.astype(dtype={'cnt_nodes':np.uint32, 'cnt_ways': np.uint32})\n",
    "users['u_name'] = users['u_name_ways']\n",
    "users.drop(['u_name_ways', 'u_name_nodes'], inplace=True, axis=1)\n",
    "# print the head to make sure we're on the right track\n",
    "users.head()\n",
    "```"
   ]
  },
  {
   "cell_type": "markdown",
   "metadata": {
    "collapsed": true
   },
   "source": [
    "```python\n",
    "# build the table out:\n",
    "num_nodes = sum(users['cnt_nodes'])\n",
    "num_ways = sum(users['cnt_ways'])\n",
    "num_total = num_nodes + num_ways\n",
    "users['cnt_total'] = users['cnt_nodes'] + users['cnt_ways']\n",
    "users['per_nodes'] = users['cnt_nodes'] / num_nodes\n",
    "users['per_ways'] = users['cnt_ways'] / num_ways\n",
    "users['per_total'] = users['cnt_total'] / num_total\n",
    "```"
   ]
  },
  {
   "cell_type": "markdown",
   "metadata": {},
   "source": [
    "```python\n",
    "users.head()\n",
    "```"
   ]
  },
  {
   "cell_type": "markdown",
   "metadata": {},
   "source": [
    "#### Summarizing Users\n",
    "It turns out, most of Boston has been mapped by a single user. This means any errors we may find under that name should be fairly widespread, and also those found elsewhere should be rather singular, as most users have fairly few posts. Even if one particular user did not understand the guidelines at the time of posting, the impact of such errors will be relatively small. \n",
    "\n",
    "What this cannot account for is a common misunderstanding of instructions, rather it relies on an average person fully grapsing and adhearing to the posted rules. \n",
    "\n",
    "With that understanding it's time to begin focusing on the nodes and their relative tags."
   ]
  },
  {
   "cell_type": "markdown",
   "metadata": {},
   "source": [
    "### Nodes and Their Tags\n",
    "Let's journey through the node_tags table first, getting a sense of what tags are commonly associated with nodes."
   ]
  },
  {
   "cell_type": "markdown",
   "metadata": {},
   "source": [
    "#### Top 3 Node_Tags\n",
    "Well our top three tags have turned over some relatively useful information. We can see Mass GIS makes up a huge number of the nodes. I'd like to examine what users have created these GIS tagged nodes. To do so I'll first load in the nodes table, then add u_name to it, which will make counting values much more readable. "
   ]
  },
  {
   "cell_type": "markdown",
   "metadata": {
    "collapsed": true
   },
   "source": [
    "```python\n",
    "sql_select = (\n",
    "    \"SELECT * \"\n",
    "    \"FROM nodes\"\n",
    ")\n",
    "nodes = pd.read_sql(sql_select, con=conn, index_col=\"n_id\")\n",
    "```"
   ]
  },
  {
   "cell_type": "markdown",
   "metadata": {},
   "source": [
    "#### Problem Detected\n",
    "So it turns out some of our nodes lack known users. (As in, the nodes have u_ids that are un-referenced in the user table). This is a rather odd error, and to bypass it I'm going to create a \"Missing Person\" user, and feed that into the table whenever an unreferenced u_id is found. I'll then be able to count and find all of those nodes relatively easily. Hopefully this will illuminate what caused the issue to begin with. "
   ]
  },
  {
   "cell_type": "markdown",
   "metadata": {
    "scrolled": true
   },
   "source": [
    "```python\n",
    "# this is a node which lacked any entry in the users table\n",
    "nodes[nodes['u_id'] == 7906]\n",
    "```"
   ]
  },
  {
   "cell_type": "markdown",
   "metadata": {
    "collapsed": true
   },
   "source": [
    "```python\n",
    "def generate_mp(loc):\n",
    "    \"\"\"Generates missing person for given index\"\"\"\n",
    "    m_p = users.iloc[1].copy()\n",
    "    m_p = users.sum(axis=0, numeric_only=True)\n",
    "    m_p[m_p > 0] = 0\n",
    "    m_p['u_name'] = \"missing person\"\n",
    "    users.loc[loc] = m_p\n",
    "    return True\n",
    "\n",
    "def parse_uid(u_id):\n",
    "    \"\"\"Parses u_id and returns u_name, generates mp if no user exists\"\"\"\n",
    "    try:\n",
    "        return users.loc[u_id]['u_name']\n",
    "    except Exception as err:\n",
    "        generate_mp(u_id)\n",
    "    try:\n",
    "        return users.loc[u_id]['u_name']\n",
    "    except Exception as err:\n",
    "        print(\"dunno bro bro\")\n",
    "        return False\n",
    "```"
   ]
  },
  {
   "cell_type": "markdown",
   "metadata": {},
   "source": [
    "```python\n",
    "# create the u_name col; with missing person for non-associated nodes\n",
    "nodes['u_name'] = nodes['u_id'].apply(parse_uid)\n",
    "```"
   ]
  },
  {
   "cell_type": "markdown",
   "metadata": {
    "scrolled": true
   },
   "source": [
    "```python\n",
    "nodes.head()\n",
    "```\n",
    "\n",
    "|n_id\t |\tu_id  |lat        |\tlon        |u_name\t  |\n",
    "|--------|--------|-----------|------------|----------|\n",
    "|30730952|\t326503|\t42.3678097|\t-71.0218711|\twambag|\n",
    "|30730953|\t326503|\t42.3677364|\t-71.0218568|\twambag|\n",
    "|30730954|\t326503|\t42.3676084|\t-71.0218168|\twambag|\n",
    "|30730955|\t326503|\t42.3675229|\t-71.0218486|\twambag|\n",
    "|30730956|\t326503|\t42.3674548|\t-71.0218865|\twambag|"
   ]
  },
  {
   "cell_type": "markdown",
   "metadata": {},
   "source": [
    "```python\n",
    "len(pd.value_counts(nodes[nodes['u_name'] == \"missing person\"]['u_id']))\n",
    "```\n",
    "831"
   ]
  },
  {
   "cell_type": "markdown",
   "metadata": {},
   "source": [
    "#### Missing Persons\n",
    "So there are 831 users who apparently have no corresponding u_name in the users table. This is quite odd and has rather few explinations. Especially since my parsing script printed no errors during the parse. \n",
    "\n",
    "This leads me to believe the error may be a genuine one inside of the database. Now, while my computer can't handle another round of parsing this mega file. It may be worth another go round on a more robust engine to find where these nodes lay within the data. \n",
    "\n",
    "For now, the best explination I can conjure is that the nodes had u_ids without corresponding u_names, this could be because the user accounts were deleted after posting the node. The node may relay on a the u_id, or the delete script may not strip the u_id from each node, but may strip u_name in order to free that u_name to be re-registered by another user. With the help of another hidden u_transactions table, the DB Admin could theoretically go backwards in time and see which u_name posted each node historically, whether the u_name had changed hands 100 times or none. \n",
    "\n",
    "This type of asymetric cleansing of the data for deleted user accounts should be addressed in later analysis, as it could be a very efficient way to allow u_names to be fluid, yet maintain a record of who did what. "
   ]
  },
  {
   "cell_type": "markdown",
   "metadata": {},
   "source": [
    "```python\n",
    "# okay let's get the full users table:\n",
    "sql_select = (\n",
    "    \"SELECT * \"\n",
    "    \"FROM users\"\n",
    ")\n",
    "users = pd.read_sql(sql_select, conn, index_col=\"u_id\")\n",
    "users.head()\n",
    "```\n",
    "\t\n",
    "|u_id |u_name  |\n",
    "|-----|--------|\n",
    "|1\t  |Steve   |\n",
    "|246  |moyogo  |\n",
    "|364  |Edward  |\n",
    "|729  |rjmunro |\n",
    "|869  |quentin |"
   ]
  },
  {
   "cell_type": "markdown",
   "metadata": {
    "collapsed": true
   },
   "source": [
    "```python\n",
    "# and now to reprocess the nodes table\n",
    "nodes['u_name'] = nodes['u_id'].apply(parse_uid)\n",
    "```"
   ]
  },
  {
   "cell_type": "markdown",
   "metadata": {},
   "source": [
    "```python\n",
    "nodes[nodes['u_name'] == \"missing person\"]\n",
    "```\n",
    "returns nothing."
   ]
  },
  {
   "cell_type": "markdown",
   "metadata": {},
   "source": [
    "#### It just got a little awkward in here...\n",
    "Turns out I was totally and 100% wrong! Woohoo, there are no missing users in the nodes table, there is no reason to explain why there are, and the entire section on the missing persons issue is no longer relevent! Sweet bruh!"
   ]
  },
  {
   "cell_type": "code",
   "execution_count": null,
   "metadata": {
    "collapsed": true
   },
   "outputs": [],
   "source": []
  }
 ],
 "metadata": {
  "anaconda-cloud": {},
  "kernelspec": {
   "display_name": "Python 3",
   "language": "python",
   "name": "python3"
  },
  "language_info": {
   "codemirror_mode": {
    "name": "ipython",
    "version": 3
   },
   "file_extension": ".py",
   "mimetype": "text/x-python",
   "name": "python",
   "nbconvert_exporter": "python",
   "pygments_lexer": "ipython3",
   "version": "3.6.1"
  }
 },
 "nbformat": 4,
 "nbformat_minor": 2
}
